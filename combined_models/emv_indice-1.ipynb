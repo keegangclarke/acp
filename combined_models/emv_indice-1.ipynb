{
 "cells": [
  {
   "cell_type": "code",
   "execution_count": null,
   "metadata": {},
   "outputs": [],
   "source": [
    "import pandas as pd\n",
    "import matplotlib.pyplot as plt\n",
    "import seaborn as sns"
   ]
  },
  {
   "cell_type": "code",
   "execution_count": null,
   "metadata": {},
   "outputs": [],
   "source": [
    "# specify directories\n",
    "d_emv = \"C:/Users/Keegan/OneDrive/1 Studies/2021 - 2022/5003W/3 - Dissertation/5-Data/cleaned/univariate/evm_indices/\"\n",
    "d_infectious = d_emv+'All_Infectious_'+'EMV_Data'+'.csv'\n",
    "d_emv = d_emv+'EMV_Data'+'.xlsx'\n",
    "\n",
    "emv = pd.read_excel(d_emv)\n",
    "infectious = pd.read_csv(d_infectious)\n",
    "# wrangle date information\n",
    "\n",
    "# INFECTIOUS\n",
    "dates = infectious[['day','month','year']].astype('str')\n",
    "dates['date']=pd.to_datetime([dates['year'][i]+'-'+dates['month'][i]+'-'+dates['day'][i] for i in range(len(dates))])\n",
    "infectious['date'] = dates.date\n",
    "infectious = infectious.drop(['day','month','year'], axis=1).set_index('date')\n",
    "del dates\n",
    "\n",
    "# EMV\n",
    "# end of month days\n",
    "day_dct = {'01':31,'02':28,'03':31,'04':30,'05':31,'06':30,'07':31,'08':31,'09':30,'10':31,'11':30,'12':31}\n",
    "\n",
    "emv = emv.drop(emv.tail(1).index)\n",
    "emv[['Year','Month']] = emv[['Year','Month']].astype('int64').round(decimals=0)\n",
    "dates = emv[['Month','Year']].astype('str')\n",
    "dates['day'] = '01'\n",
    "dates['Month'] = [str(string).zfill(2) for string in dates['Month']]\n",
    "for key, val in day_dct.items():\n",
    "    # make end of month\n",
    "    dates['day'][dates['Month']==key] = str(val)\n",
    "dates['date']= pd.to_datetime([dates['Year'][i]+'-'+dates['Month'][i]+'-'+dates['day'][i] for i in range(len(dates))])\n",
    "emv['date'] = dates.date\n",
    "emv = emv.drop(['Month','Year'], axis=1).set_index('date')"
   ]
  },
  {
   "cell_type": "code",
   "execution_count": null,
   "metadata": {},
   "outputs": [],
   "source": [
    "fig, ax = plt.subplots()\n",
    "\n",
    "# ax.plot(infectious.index,infectious.values.reshape(len(infectious)))\n",
    "ax.plot(emv['Overall EMV Tracker'])\n",
    "ax.hlines(emv['Overall EMV Tracker'].mean(),xmin=pd.to_datetime('1985-01-01'),xmax=pd.to_datetime('2020-01-01'))\n",
    "ax.hlines(emv['Overall EMV Tracker'].mean()+emv['Overall EMV Tracker'].std()*3,xmin=pd.to_datetime('1985-01-01'),xmax=pd.to_datetime('2020-01-01'))\n",
    "fig.set_size_inches(18.5, 10.5)"
   ]
  },
  {
   "cell_type": "code",
   "execution_count": null,
   "metadata": {},
   "outputs": [],
   "source": [
    "sns.distplot(emv['Overall EMV Tracker'])\n",
    "sns.distplot(infectious.pct_change().dropna())"
   ]
  },
  {
   "cell_type": "code",
   "execution_count": null,
   "metadata": {},
   "outputs": [],
   "source": [
    "inf_change = infectious.pct_change()\n",
    "inf_change = inf_change[~inf_change.pct_change().isin([np.nan, np.inf, -np.inf]).any(1)].dropna()\n",
    "plt.plot(inf_change)"
   ]
  }
 ],
 "metadata": {
  "kernelspec": {
   "display_name": "Python 3.9.12 ('ml')",
   "language": "python",
   "name": "python3"
  },
  "language_info": {
   "name": "python",
   "version": "3.9.12"
  },
  "orig_nbformat": 4,
  "vscode": {
   "interpreter": {
    "hash": "702c8f25f243a5b6217c739e636a483cc6c8ab61b8f4035d125c56c1ea95091f"
   }
  }
 },
 "nbformat": 4,
 "nbformat_minor": 2
}
