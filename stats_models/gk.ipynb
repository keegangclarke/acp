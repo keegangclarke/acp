{
 "cells": [
  {
   "cell_type": "code",
   "execution_count": 5,
   "metadata": {},
   "outputs": [],
   "source": [
    "# Stack Exchange post : https://quant.stackexchange.com/questions/60372/comparison-of-results-given-by-volatility-estimators-garman-klass-vs-garch1-1\n",
    "import math\n",
    "import pandas as pd \n",
    "from pandas_datareader import data as pdr\n",
    "import numpy as np\n",
    "import matplotlib.pyplot as plt\n",
    "from datetime import date \n",
    "import yfinance as yf\n",
    "from arch import arch_model\n",
    "from collections import OrderedDict"
   ]
  },
  {
   "cell_type": "code",
   "execution_count": 6,
   "metadata": {},
   "outputs": [
    {
     "name": "stdout",
     "output_type": "stream",
     "text": [
      "[*********************100%***********************]  1 of 1 completed\n"
     ]
    }
   ],
   "source": [
    "observation_period=10 # number of months from the last available day\n",
    "df =  yf.download(\"TSLA\")\n",
    "df=df.last('%dm'%observation_period)\n",
    "\n",
    "def annualized_realized_volatility_estimator(df,window_length=observation_period, unit_window_length='m', A=252):\n",
    "    temp=A*(1/len(df))*np.log(df.last('%d'%observation_period+unit_window_length)).diff().dropna()\n",
    "    V=temp['Adj Close'].sum() \n",
    "    return math.sqrt(V)\n",
    "\n",
    "\n",
    "def Garman_Klass_estimator_row(H, L, O, C,T=len(df.index), A=252):\n",
    "    V=A*(1/T)*(1/2)*(math.log(H/L))**2 - (2*math.log(2)-1)*(math.log(C/O))**2\n",
    "    return V\n",
    "def Garman_Klass_estimator(df):\n",
    "    vol=math.sqrt(df.apply(lambda row:Garman_Klass_estimator_row(row['High'], row['Low'], row['Open'], row['Close']),axis=1).sum())\n",
    "    return vol\n",
    "\n",
    "\n",
    "def Garch_model(df,training_period,observation_period,horizon=1): #training_period is the number of months for training the Garch\n",
    "    df_garch=df.last('%dm'%(observation_period+training_period))\n",
    "    df_garch_train=df_garch.first('%dm'%training_period)\n",
    "    df_garch_predict=df_garch.last('%dm'%observation_period)\n",
    "    df_garch_train.loc[:,'Returns']=100 * df_garch_train.loc[:,'Adj Close'].pct_change().dropna()\n",
    "    garch11 = arch_model(df_garch_train.loc[:,'Returns'].dropna(), p=1, q=1) \n",
    "    res = garch11.fit(update_freq=10) \n",
    "    forecasts = res.forecast(horizon=horizon)\n",
    "    return 0.1*forecasts.residual_variance.iloc[-1].values[-1]"
   ]
  },
  {
   "cell_type": "code",
   "execution_count": 7,
   "metadata": {},
   "outputs": [],
   "source": [
    "# get directories of files\n",
    "d_root = \"C:/Users/Keegan/OneDrive/1 Studies/2021 - 2022/5003W/3 - Dissertation/5-Data/multi_series_data/intraday/clean/longest/\"\n",
    "files = os.listdir(d_root)\n",
    "dirs = [d_root + x for x in files]\n",
    "\n",
    "keys = [a.removesuffix(\"_intra_clean.xlsx\") for a in files]\n",
    "keys = [a.removesuffix(\"_index_clean.xlsx\") for a in keys]\n",
    "\n",
    "if len(files) == len(keys):\n",
    "    exit\n",
    "else:\n",
    "    raise error(\"Object did not retain length. Check processing for errors.\")"
   ]
  },
  {
   "cell_type": "code",
   "execution_count": 8,
   "metadata": {},
   "outputs": [
    {
     "name": "stdout",
     "output_type": "stream",
     "text": [
      "total number of observations in all data:  3249852\n"
     ]
    }
   ],
   "source": [
    "data = OrderedDict()\n",
    "for i in range(len(dirs)):\n",
    "    open(dirs[i])\n",
    "    data[keys[i]] = pd.read_excel(dirs[i])\n",
    "\n",
    "cols = list(data[keys[0]].columns)\n",
    "\n",
    "length = []\n",
    "for i in range(len(keys)):\n",
    "    length.append(len(data[keys[i]]))\n",
    "print(\"total number of observations in all data: \", sum(length)*4)"
   ]
  },
  {
   "cell_type": "code",
   "execution_count": 15,
   "metadata": {},
   "outputs": [
    {
     "data": {
      "text/plain": [
       "['as51',\n",
       " 'cac',\n",
       " 'dax',\n",
       " 'ftsemib',\n",
       " 'hsi',\n",
       " 'ibex',\n",
       " 'ibov',\n",
       " 'jalsh',\n",
       " 'jci',\n",
       " 'kospi',\n",
       " 'merval',\n",
       " 'mexbol',\n",
       " 'moex',\n",
       " 'n100',\n",
       " 'nifty',\n",
       " 'nky',\n",
       " 'saseidx',\n",
       " 'shsz300',\n",
       " 'sptsx',\n",
       " 'spx',\n",
       " 'ukx',\n",
       " 'xu100']"
      ]
     },
     "execution_count": 15,
     "metadata": {},
     "output_type": "execute_result"
    }
   ],
   "source": [
    "keys"
   ]
  },
  {
   "cell_type": "code",
   "execution_count": 41,
   "metadata": {},
   "outputs": [],
   "source": [
    "df_ukx = data['ukx'].copy() #.set_index('Date')"
   ]
  },
  {
   "cell_type": "code",
   "execution_count": 38,
   "metadata": {},
   "outputs": [
    {
     "ename": "TypeError",
     "evalue": "cannot convert the series to <class 'float'>",
     "output_type": "error",
     "traceback": [
      "\u001b[1;31m---------------------------------------------------------------------------\u001b[0m",
      "\u001b[1;31mTypeError\u001b[0m                                 Traceback (most recent call last)",
      "\u001b[1;32mc:\\Users\\Keegan\\anaconda3\\envs\\ml\\dev_files\\stats_models\\gk.ipynb Cell 7\u001b[0m in \u001b[0;36m<cell line: 1>\u001b[1;34m()\u001b[0m\n\u001b[1;32m----> <a href='vscode-notebook-cell:/c%3A/Users/Keegan/anaconda3/envs/ml/dev_files/stats_models/gk.ipynb#W6sZmlsZQ%3D%3D?line=0'>1</a>\u001b[0m vol \u001b[39m=\u001b[39m Garman_Klass_estimator(df_ukx)\n",
      "\u001b[1;32mc:\\Users\\Keegan\\anaconda3\\envs\\ml\\dev_files\\stats_models\\gk.ipynb Cell 7\u001b[0m in \u001b[0;36mGarman_Klass_estimator\u001b[1;34m(df)\u001b[0m\n\u001b[0;32m      <a href='vscode-notebook-cell:/c%3A/Users/Keegan/anaconda3/envs/ml/dev_files/stats_models/gk.ipynb#W6sZmlsZQ%3D%3D?line=3'>4</a>\u001b[0m \u001b[39mdef\u001b[39;00m \u001b[39mGarman_Klass_estimator\u001b[39m(df):\n\u001b[0;32m      <a href='vscode-notebook-cell:/c%3A/Users/Keegan/anaconda3/envs/ml/dev_files/stats_models/gk.ipynb#W6sZmlsZQ%3D%3D?line=4'>5</a>\u001b[0m     \u001b[39m# vols = pd.Series()\u001b[39;00m\n\u001b[1;32m----> <a href='vscode-notebook-cell:/c%3A/Users/Keegan/anaconda3/envs/ml/dev_files/stats_models/gk.ipynb#W6sZmlsZQ%3D%3D?line=5'>6</a>\u001b[0m     vol\u001b[39m=\u001b[39mmath\u001b[39m.\u001b[39;49msqrt(df\u001b[39m.\u001b[39;49mapply(\u001b[39mlambda\u001b[39;49;00m row:Garman_Klass_estimator_row(row[\u001b[39m'\u001b[39;49m\u001b[39mHigh\u001b[39;49m\u001b[39m'\u001b[39;49m], row[\u001b[39m'\u001b[39;49m\u001b[39mLow\u001b[39;49m\u001b[39m'\u001b[39;49m], row[\u001b[39m'\u001b[39;49m\u001b[39mOpen\u001b[39;49m\u001b[39m'\u001b[39;49m], row[\u001b[39m'\u001b[39;49m\u001b[39mClose\u001b[39;49m\u001b[39m'\u001b[39;49m]),axis\u001b[39m=\u001b[39;49m\u001b[39m1\u001b[39;49m)) \u001b[39m# .sum()\u001b[39;00m\n\u001b[0;32m      <a href='vscode-notebook-cell:/c%3A/Users/Keegan/anaconda3/envs/ml/dev_files/stats_models/gk.ipynb#W6sZmlsZQ%3D%3D?line=6'>7</a>\u001b[0m     \u001b[39mreturn\u001b[39;00m vol\n",
      "File \u001b[1;32mc:\\Users\\Keegan\\anaconda3\\envs\\ml\\lib\\site-packages\\pandas\\core\\series.py:191\u001b[0m, in \u001b[0;36m_coerce_method.<locals>.wrapper\u001b[1;34m(self)\u001b[0m\n\u001b[0;32m    189\u001b[0m \u001b[39mif\u001b[39;00m \u001b[39mlen\u001b[39m(\u001b[39mself\u001b[39m) \u001b[39m==\u001b[39m \u001b[39m1\u001b[39m:\n\u001b[0;32m    190\u001b[0m     \u001b[39mreturn\u001b[39;00m converter(\u001b[39mself\u001b[39m\u001b[39m.\u001b[39miloc[\u001b[39m0\u001b[39m])\n\u001b[1;32m--> 191\u001b[0m \u001b[39mraise\u001b[39;00m \u001b[39mTypeError\u001b[39;00m(\u001b[39mf\u001b[39m\u001b[39m\"\u001b[39m\u001b[39mcannot convert the series to \u001b[39m\u001b[39m{\u001b[39;00mconverter\u001b[39m}\u001b[39;00m\u001b[39m\"\u001b[39m)\n",
      "\u001b[1;31mTypeError\u001b[0m: cannot convert the series to <class 'float'>"
     ]
    }
   ],
   "source": [
    "vol = Garman_Klass_estimator(df_ukx)"
   ]
  },
  {
   "cell_type": "code",
   "execution_count": 37,
   "metadata": {},
   "outputs": [],
   "source": [
    "def Garman_Klass_estimator_row(H, L, O, C,T=len(df.index), A=252):\n",
    "    V=A*(1/T)*(1/2)*(math.log(H/L))**2 - (2*math.log(2)-1)*(math.log(C/O))**2\n",
    "    return V\n",
    "def Garman_Klass_estimator(df):\n",
    "    # vols = pd.Series()\n",
    "    vol=math.sqrt(df.apply(lambda row:Garman_Klass_estimator_row(row['High'], row['Low'], row['Open'], row['Close']),axis=1)) # .sum()\n",
    "    return vol"
   ]
  },
  {
   "cell_type": "code",
   "execution_count": 57,
   "metadata": {},
   "outputs": [],
   "source": [
    "def gk_vol(df):\n",
    "    D = df.Date\n",
    "    H = df.High\n",
    "    L = df.Low\n",
    "    O = df.Open\n",
    "    C = df.Close\n",
    "    time = len(df.Date)\n",
    "    df_c = df.copy(deep='True')\n",
    "    vol = list()\n",
    "    for i in range(len(df)):\n",
    "        row = df.iloc[i]\n",
    "        row_vol = math.sqrt(Garman_Klass_estimator_row(H=row.High,L=row.Low,O=row.Open,C=row.Close))\n",
    "        vol.append(row_vol)\n",
    "    vol = pd.Series(vol)\n",
    "    vol.name = \"gk_vol\"\n",
    "    return pd.concat([df_c, vol], axis=1)"
   ]
  },
  {
   "cell_type": "code",
   "execution_count": 47,
   "metadata": {},
   "outputs": [
    {
     "data": {
      "text/plain": [
       "7257.54"
      ]
     },
     "execution_count": 47,
     "metadata": {},
     "output_type": "execute_result"
    }
   ],
   "source": [
    "df_ukx.iloc[1].Open"
   ]
  },
  {
   "cell_type": "code",
   "execution_count": 58,
   "metadata": {},
   "outputs": [],
   "source": [
    "gk_test = gk_vol(df_ukx)"
   ]
  },
  {
   "cell_type": "code",
   "execution_count": 59,
   "metadata": {},
   "outputs": [
    {
     "data": {
      "text/html": [
       "<div>\n",
       "<style scoped>\n",
       "    .dataframe tbody tr th:only-of-type {\n",
       "        vertical-align: middle;\n",
       "    }\n",
       "\n",
       "    .dataframe tbody tr th {\n",
       "        vertical-align: top;\n",
       "    }\n",
       "\n",
       "    .dataframe thead th {\n",
       "        text-align: right;\n",
       "    }\n",
       "</style>\n",
       "<table border=\"1\" class=\"dataframe\">\n",
       "  <thead>\n",
       "    <tr style=\"text-align: right;\">\n",
       "      <th></th>\n",
       "      <th>Date</th>\n",
       "      <th>Open</th>\n",
       "      <th>High</th>\n",
       "      <th>Low</th>\n",
       "      <th>Close</th>\n",
       "      <th>gk_vol</th>\n",
       "    </tr>\n",
       "  </thead>\n",
       "  <tbody>\n",
       "    <tr>\n",
       "      <th>0</th>\n",
       "      <td>2022-03-03 11:30:00</td>\n",
       "      <td>7238.85</td>\n",
       "      <td>7238.85</td>\n",
       "      <td>7238.85</td>\n",
       "      <td>7238.85</td>\n",
       "      <td>0.000000</td>\n",
       "    </tr>\n",
       "    <tr>\n",
       "      <th>1</th>\n",
       "      <td>2022-03-03 11:00:00</td>\n",
       "      <td>7257.54</td>\n",
       "      <td>7262.14</td>\n",
       "      <td>7231.51</td>\n",
       "      <td>7237.78</td>\n",
       "      <td>0.002895</td>\n",
       "    </tr>\n",
       "    <tr>\n",
       "      <th>2</th>\n",
       "      <td>2022-03-03 10:30:00</td>\n",
       "      <td>7305.34</td>\n",
       "      <td>7305.34</td>\n",
       "      <td>7257.54</td>\n",
       "      <td>7257.62</td>\n",
       "      <td>0.003249</td>\n",
       "    </tr>\n",
       "    <tr>\n",
       "      <th>3</th>\n",
       "      <td>2022-03-03 10:00:00</td>\n",
       "      <td>7335.01</td>\n",
       "      <td>7335.08</td>\n",
       "      <td>7301.41</td>\n",
       "      <td>7305.43</td>\n",
       "      <td>0.002651</td>\n",
       "    </tr>\n",
       "    <tr>\n",
       "      <th>4</th>\n",
       "      <td>2022-03-03 09:30:00</td>\n",
       "      <td>7343.24</td>\n",
       "      <td>7351.84</td>\n",
       "      <td>7326.33</td>\n",
       "      <td>7334.98</td>\n",
       "      <td>0.002669</td>\n",
       "    </tr>\n",
       "    <tr>\n",
       "      <th>...</th>\n",
       "      <td>...</td>\n",
       "      <td>...</td>\n",
       "      <td>...</td>\n",
       "      <td>...</td>\n",
       "      <td>...</td>\n",
       "      <td>...</td>\n",
       "    </tr>\n",
       "    <tr>\n",
       "      <th>48072</th>\n",
       "      <td>2011-07-14 05:00:00</td>\n",
       "      <td>5875.79</td>\n",
       "      <td>5882.27</td>\n",
       "      <td>5867.35</td>\n",
       "      <td>5873.10</td>\n",
       "      <td>0.001996</td>\n",
       "    </tr>\n",
       "    <tr>\n",
       "      <th>48073</th>\n",
       "      <td>2011-07-14 04:30:00</td>\n",
       "      <td>5875.73</td>\n",
       "      <td>5882.67</td>\n",
       "      <td>5872.25</td>\n",
       "      <td>5875.86</td>\n",
       "      <td>0.001407</td>\n",
       "    </tr>\n",
       "    <tr>\n",
       "      <th>48074</th>\n",
       "      <td>2011-07-14 04:00:00</td>\n",
       "      <td>5875.01</td>\n",
       "      <td>5875.65</td>\n",
       "      <td>5869.56</td>\n",
       "      <td>5875.65</td>\n",
       "      <td>0.000820</td>\n",
       "    </tr>\n",
       "    <tr>\n",
       "      <th>48075</th>\n",
       "      <td>2011-07-14 03:30:00</td>\n",
       "      <td>5873.27</td>\n",
       "      <td>5885.19</td>\n",
       "      <td>5873.20</td>\n",
       "      <td>5875.09</td>\n",
       "      <td>0.001607</td>\n",
       "    </tr>\n",
       "    <tr>\n",
       "      <th>48076</th>\n",
       "      <td>2011-07-14 03:00:00</td>\n",
       "      <td>5906.43</td>\n",
       "      <td>5906.43</td>\n",
       "      <td>5848.23</td>\n",
       "      <td>5873.29</td>\n",
       "      <td>0.007039</td>\n",
       "    </tr>\n",
       "  </tbody>\n",
       "</table>\n",
       "<p>48077 rows × 6 columns</p>\n",
       "</div>"
      ],
      "text/plain": [
       "                     Date     Open     High      Low    Close    gk_vol\n",
       "0     2022-03-03 11:30:00  7238.85  7238.85  7238.85  7238.85  0.000000\n",
       "1     2022-03-03 11:00:00  7257.54  7262.14  7231.51  7237.78  0.002895\n",
       "2     2022-03-03 10:30:00  7305.34  7305.34  7257.54  7257.62  0.003249\n",
       "3     2022-03-03 10:00:00  7335.01  7335.08  7301.41  7305.43  0.002651\n",
       "4     2022-03-03 09:30:00  7343.24  7351.84  7326.33  7334.98  0.002669\n",
       "...                   ...      ...      ...      ...      ...       ...\n",
       "48072 2011-07-14 05:00:00  5875.79  5882.27  5867.35  5873.10  0.001996\n",
       "48073 2011-07-14 04:30:00  5875.73  5882.67  5872.25  5875.86  0.001407\n",
       "48074 2011-07-14 04:00:00  5875.01  5875.65  5869.56  5875.65  0.000820\n",
       "48075 2011-07-14 03:30:00  5873.27  5885.19  5873.20  5875.09  0.001607\n",
       "48076 2011-07-14 03:00:00  5906.43  5906.43  5848.23  5873.29  0.007039\n",
       "\n",
       "[48077 rows x 6 columns]"
      ]
     },
     "execution_count": 59,
     "metadata": {},
     "output_type": "execute_result"
    }
   ],
   "source": [
    "gk_test"
   ]
  },
  {
   "cell_type": "code",
   "execution_count": 60,
   "metadata": {},
   "outputs": [
    {
     "data": {
      "text/plain": [
       "<seaborn.axisgrid.FacetGrid at 0x1b7e23c77c0>"
      ]
     },
     "execution_count": 60,
     "metadata": {},
     "output_type": "execute_result"
    },
    {
     "data": {
      "image/png": "[encoded data removed]",
      "text/plain": [
       "<Figure size 500x500 with 1 Axes>"
      ]
     },
     "metadata": {},
     "output_type": "display_data"
    }
   ],
   "source": [
    "import seaborn as sns\n",
    "sns.displot(gk_test.gk_vol)"
   ]
  }
 ],
 "metadata": {
  "kernelspec": {
   "display_name": "Python 3.9.12 ('ml')",
   "language": "python",
   "name": "python3"
  },
  "language_info": {
   "codemirror_mode": {
    "name": "ipython",
    "version": 3
   },
   "file_extension": ".py",
   "mimetype": "text/x-python",
   "name": "python",
   "nbconvert_exporter": "python",
   "pygments_lexer": "ipython3",
   "version": "3.9.12"
  },
  "orig_nbformat": 4,
  "vscode": {
   "interpreter": {
    "hash": "702c8f25f243a5b6217c739e636a483cc6c8ab61b8f4035d125c56c1ea95091f"
   }
  }
 },
 "nbformat": 4,
 "nbformat_minor": 2
}
