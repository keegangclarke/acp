{
 "cells": [
  {
   "cell_type": "code",
   "execution_count": null,
   "metadata": {},
   "outputs": [],
   "source": [
    "# For R\n",
    "import rpy2\n",
    "import rpy2.robjects as ro\n",
    "from rpy2.robjects.packages import importr\n",
    "from rpy2.robjects import pandas2ri\n",
    "from rpy2.robjects.conversion import localconverter\n",
    "from rpy2.robjects.lib import grdevices\n",
    "from rpy2 import rinterface \n",
    "from rpy2.robjects.vectors import IntVector\n",
    "from IPython.display import Image, display\n",
    "\n",
    "rpy2.rinterface.initr() # must initialise R once (only once)"
   ]
  },
  {
   "cell_type": "markdown",
   "metadata": {},
   "source": [
    "Old code as examples"
   ]
  },
  {
   "cell_type": "code",
   "execution_count": null,
   "metadata": {},
   "outputs": [],
   "source": [
    "with localconverter(ro.default_converter + pandas2ri.converter):\n",
    "  r_market = ro.conversion.py2rpy(market)\n",
    "  r_prices = ro.conversion.py2rpy(prices)\n",
    "\n",
    "# with localconverter(ro.default_converter + pandas2ri.converter):\n",
    "  # r_prices = ro.conversion.py2rpy(prices)"
   ]
  },
  {
   "cell_type": "code",
   "execution_count": null,
   "metadata": {},
   "outputs": [],
   "source": [
    "es = importr(\"estudy2\")\n",
    "zoo = importr(\"zoo\")\n",
    "plyr = importr(\"plyr\")\n",
    "utils = importr(\"utils\")\n",
    "base = importr(\"base\")\n",
    "\n",
    "# Make into zoo objects\n",
    "market_zoo = zoo.read_zoo(r_market, index_name=1) #format=\"%d-%m-%Y\"\n",
    "price_zoo = zoo.read_zoo(r_prices, index_name=1)\n",
    "\n",
    "# Compute rates of returns from prices\n",
    "# arguments are self-explanatory\n",
    "rates = es.get_rates_from_prices(\n",
    "    r_prices,\n",
    "    quote = \"Close\",\n",
    "    multi_day = True,\n",
    "    compounding = \"continuous\"\n",
    ")\n",
    "\n",
    "rates_indx = es.get_rates_from_prices(\n",
    "    r_market,\n",
    "    quote = \"Close\",\n",
    "    multi_day = True,\n",
    "    compounding = \"continuous\"\n",
    ")\n"
   ]
  },
  {
   "cell_type": "code",
   "execution_count": null,
   "metadata": {},
   "outputs": [],
   "source": [
    "print(base.typeof(r_market[0]))\n",
    "print(base.mode(r_market[0]))\n",
    "print(base.data_class(r_market[0]))"
   ]
  }
 ],
 "metadata": {
  "kernelspec": {
   "display_name": "Python 3.9.12 ('ml')",
   "language": "python",
   "name": "python3"
  },
  "language_info": {
   "name": "python",
   "version": "3.9.12 (main, Apr  4 2022, 05:22:27) [MSC v.1916 64 bit (AMD64)]"
  },
  "orig_nbformat": 4,
  "vscode": {
   "interpreter": {
    "hash": "702c8f25f243a5b6217c739e636a483cc6c8ab61b8f4035d125c56c1ea95091f"
   }
  }
 },
 "nbformat": 4,
 "nbformat_minor": 2
}
