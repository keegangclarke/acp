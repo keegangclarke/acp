{
 "cells": [
  {
   "cell_type": "markdown",
   "metadata": {},
   "source": [
    "Imports"
   ]
  },
  {
   "cell_type": "code",
   "execution_count": 305,
   "metadata": {},
   "outputs": [],
   "source": [
    "%matplotlib inline\n",
    "# Basic\n",
    "from collections import OrderedDict\n",
    "from datetime import timedelta\n",
    "# Numbers\n",
    "import pandas as pd\n",
    "import numpy as np\n",
    "# Graphic\n",
    "import matplotlib.pyplot as plt\n",
    "from matplotlib.dates import DateFormatter\n",
    "from matplotlib.ticker import FormatStrFormatter\n",
    "import seaborn as sns\n",
    "# Models\n",
    "import pmdarima as pm\n",
    "from arch.univariate import ZeroMean, GARCH, Normal # 3 components of GARCH model"
   ]
  },
  {
   "cell_type": "markdown",
   "metadata": {},
   "source": [
    "Some useful funcs"
   ]
  },
  {
   "cell_type": "code",
   "execution_count": 306,
   "metadata": {},
   "outputs": [],
   "source": [
    "# Summarizes object characteristics\n",
    "def check_types_df(df):\n",
    "    print(\n",
    "        \"Shape: \", df.shape, \"\\n\"\n",
    "        \"Attributes: \", df.attrs, \"\\n\"\n",
    "        )\n",
    "    print(df.info())\n",
    "def do_call(which, args=None, kwargs = None):\n",
    "    if args is None and kwargs is not None:\n",
    "        return which(**kwargs)\n",
    "    elif args is not None and kwargs is None:\n",
    "        return which(*args)\n",
    "    else:\n",
    "        return which(*args, **kwargs)"
   ]
  },
  {
   "cell_type": "markdown",
   "metadata": {},
   "source": [
    "Data retrival"
   ]
  },
  {
   "cell_type": "code",
   "execution_count": 307,
   "metadata": {},
   "outputs": [],
   "source": [
    "# LOAD NAMES\n",
    "dmkt = \"C:/Users/Keegan/OneDrive/1 Studies/2021 - 2022/5003W/3 - Dissertation/5-Data/cleaned/univariate/market_indices/market_names.csv\"\n",
    "mkt_names = pd.read_csv(dmkt).values.tolist()\n",
    "mkt_names = [item for sublist in mkt_names for item in sublist]\n",
    "\n",
    "# LOAD DATA\n",
    "dd = \"C:/Users/Keegan/OneDrive/1 Studies/2021 - 2022/5003W/3 - Dissertation/5-Data/cleaned/univariate/market_indices/\"\n",
    "dirs = []\n",
    "data = OrderedDict()\n",
    "for i in range(len(mkt_names)):\n",
    "    # concat strings to get directories\n",
    "    nm = mkt_names[i]\n",
    "    directory = dd+nm+\".csv\"\n",
    "    # store\n",
    "    dirs.append(directory)\n",
    "    data[nm] = pd.read_csv(directory)\n",
    "    del directory, nm"
   ]
  },
  {
   "cell_type": "markdown",
   "metadata": {},
   "source": [
    "Constant specifications"
   ]
  },
  {
   "cell_type": "code",
   "execution_count": 308,
   "metadata": {},
   "outputs": [],
   "source": [
    "# SCALING FACTOR\n",
    "SCALE = 100\n",
    "\n",
    "# Date parameters\n",
    "E1 = pd.to_datetime(\"2020-01-13\")\n",
    "E2 = pd.to_datetime(\"2020-01-24\")\n",
    "E3 = pd.to_datetime(\"2020-02-24\")\n",
    "E4 = pd.to_datetime(\"2020-03-09\")\n",
    "\n",
    "CUT1 = pd.to_datetime(\"2019-04-29\")\n",
    "CUT2 = pd.to_datetime(\"2020-06-01\")\n",
    "\n",
    "# Plot parameters\n",
    "SCATTER = 25\n",
    "ALPHA = 0.8\n",
    "LINEWIDTH = 1.5"
   ]
  },
  {
   "cell_type": "markdown",
   "metadata": {},
   "source": [
    "Notebook Settings"
   ]
  },
  {
   "cell_type": "code",
   "execution_count": 309,
   "metadata": {},
   "outputs": [],
   "source": [
    "# Returns\n",
    "var_mode = 'log_prices' # alternative = 'log_returns'\n",
    "\n",
    "# Plotting settings\n",
    "plt.style.use('seaborn')\n",
    "font = {'family' : 'normal',\n",
    "        'weight' : 'normal',\n",
    "        'size'   : 22}\n",
    "\n",
    "plt.rc('font', **font)\n",
    "plt.rc('xtick', labelsize=12)  \n",
    "plt.rc('ytick', labelsize=12)\n",
    "\n",
    "date_form  = DateFormatter('%Y-%m-%d')"
   ]
  },
  {
   "cell_type": "code",
   "execution_count": 438,
   "metadata": {},
   "outputs": [],
   "source": [
    "# Toggle Settings\n",
    "store_stats_results = True\n",
    "show_plots = True\n",
    "save_figs = False"
   ]
  },
  {
   "cell_type": "markdown",
   "metadata": {},
   "source": [
    "Data Wrangling"
   ]
  },
  {
   "cell_type": "code",
   "execution_count": 337,
   "metadata": {},
   "outputs": [
    {
     "name": "stdout",
     "output_type": "stream",
     "text": [
      "TABULAR DATA: \n",
      " train.shape:  (3026, 2) \n",
      " test.shape:  (532, 2)\n",
      "DATA VECTORS: \n",
      " train.shape:  (3026,) \n",
      " test.shape:  (532,)\n"
     ]
    }
   ],
   "source": [
    "# select data\n",
    "MKT = \"SPX.Index\"\n",
    "dataset = data[MKT].copy(deep=True)\n",
    "# format dates\n",
    "dataset['date'] = pd.to_datetime(dataset['date'].values)\n",
    "# change colname for ease of use\n",
    "dataset = dataset.rename(columns={'date':'date', MKT:'val'})\n",
    "# keep prices for ML\n",
    "prices = dataset.copy(deep=True)\n",
    "\n",
    "if var_mode == 'log_returns':\n",
    "    # extract price level, calc log_returns, store as dataset\n",
    "    log_returns = np.log(dataset.val.shift(-1) / dataset.val)\n",
    "    log_returns = log_returns[~np.isnan(log_returns)]\n",
    "\n",
    "    dataset.val = log_returns\n",
    "    del log_returns\n",
    "\n",
    "elif var_mode == 'log_prices':\n",
    "    # extract price level, calc log_prices, store as dataset\n",
    "    log_prices = np.log(np.copy(dataset.val.values))\n",
    "    log_prices = log_prices[~np.isnan(log_prices)]\n",
    "\n",
    "    dataset.val = log_prices\n",
    "    del log_prices\n",
    "else:\n",
    "    Exception(\"Variable calculation not specified. Please specify var_mode with one of the following: ['log_returns', 'log_prices']\")\n",
    "\n",
    "# set data splitting parameters\n",
    "date1 = E1\n",
    "date2 = CUT2+timedelta(days=365)\n",
    "\n",
    "# split dataset\n",
    "Y = dataset.val\n",
    "X = pd.concat([pd.to_datetime(dataset.date), pd.Series(range(len(Y)))], axis=1).rename({'date':'date',0:'index'},axis=1)\n",
    "# X_in = X.index[X.date < date1]\n",
    "# X_out = X.index[X.date >= date1]\n",
    "train = dataset[(dataset[\"date\"] < date1)] # & (dataset['date'] > pd.to_datetime(\"2016-01-01\")) \n",
    "test = dataset[(dataset[\"date\"] >= date1)]\n",
    "# Inspect\n",
    "print(\n",
    "    'TABULAR DATA:', '\\n',\n",
    "    'train.shape: ', train.shape, '\\n',\n",
    "    'test.shape: ', test.shape\n",
    "    )\n",
    "\n",
    "# retain date seqs\n",
    "dtrain, dtest = pd.to_datetime(train.date), pd.to_datetime(test.date)\n",
    "# format structures (and dtypes) for arima\n",
    "Y, train, test = Y.values, train.val.values, test.val.values\n",
    "# Inspect and compare\n",
    "print(\n",
    "    'DATA VECTORS:', '\\n',\n",
    "    'train.shape: ', train.shape, '\\n',\n",
    "    'test.shape: ', test.shape\n",
    "    )"
   ]
  },
  {
   "cell_type": "markdown",
   "metadata": {},
   "source": [
    "Directories"
   ]
  },
  {
   "cell_type": "code",
   "execution_count": 311,
   "metadata": {},
   "outputs": [],
   "source": [
    "d_model_results = 'C:/Users/Keegan/OneDrive/1 Studies/2021 - 2022/5003W/3 - Dissertation/5-Data/results/fanomal/stats_models/'\n",
    "d_arima = d_model_results+'arima_results/'+MKT+'/'\n",
    "d_arima_plots = d_arima+'plots/'\n",
    "d_garch = d_model_results+'garch_results/'+MKT+'/'\n",
    "d_garch_plots = d_garch+'plots/'\n",
    "\n",
    "# Ensure appropriate nested directory exits\n",
    "from pathlib import Path\n",
    "Path(d_arima).mkdir(parents=True, exist_ok=True)\n",
    "Path(d_arima_plots).mkdir(parents=True, exist_ok=True)\n",
    "Path(d_garch).mkdir(parents=True, exist_ok=True)\n",
    "Path(d_garch_plots).mkdir(parents=True, exist_ok=True)"
   ]
  },
  {
   "cell_type": "markdown",
   "metadata": {},
   "source": [
    "ARIMA"
   ]
  },
  {
   "cell_type": "code",
   "execution_count": 312,
   "metadata": {},
   "outputs": [],
   "source": [
    "ORDER = (1,1,1)\n",
    "# construct arima model of order ORDER, keeping data out of sample\n",
    "arima = pm.ARIMA(order=ORDER, out_of_sample_size=int(test.shape[0]))\n",
    "fit = arima.fit(Y)\n",
    "# predict in sample\n",
    "pred_in = fit.predict_in_sample(start=1, end=Y.shape[0], dynamic=False, return_conf_int=True)\n",
    "# extract upper & lower confidence intervals of predictions\n",
    "lw = pd.DataFrame({'date':dataset.date.values, 'lower':[pred_in[1][i][0] for i in range(pred_in[1].shape[0])]}).set_index('date')\n",
    "up = pd.DataFrame({'date':dataset.date.values, 'upper':[pred_in[1][i][1] for i in range(pred_in[1].shape[0])]}).set_index('date')"
   ]
  },
  {
   "cell_type": "code",
   "execution_count": 313,
   "metadata": {},
   "outputs": [],
   "source": [
    "# # Plots Autocorrelation. Keeping in case I want to make some adjustments\n",
    "# from statsmodels.graphics.tsaplots import acf, plot_acf\n",
    "# diff = np.diff(Y,n=1)\n",
    "# acorr = acf(diff,nlags=50)\n",
    "# plot_acf(diff, lags=50, auto_ylims=True)\n",
    "# plt.show()\n",
    "# # Plots ARIMA(1,1,1) residuals' distribution\n",
    "# resid = (Y - pred_in[0])\n",
    "# sns.distplot([fit.resid()[1:-1],resid[1:-1]])"
   ]
  },
  {
   "cell_type": "code",
   "execution_count": 314,
   "metadata": {},
   "outputs": [],
   "source": [
    "# Build pd.DataFrames to make plotting easier\n",
    "predicted = pd.DataFrame({\n",
    "    'date':dataset.date.values,\n",
    "    # 'actual':Y,\n",
    "    'predicted':pred_in[0],\n",
    "    'lower':[pred_in[1][i][0] for i in range(pred_in[1].shape[0])],\n",
    "    'upper':[pred_in[1][i][1] for i in range(pred_in[1].shape[0])]\n",
    "    }).set_index('date')\n",
    "train_test = {\n",
    "    'train':pd.DataFrame({'date':dtrain,'train':train}).set_index('date'),\n",
    "    'test':pd.DataFrame({'date':dtest,'test':test}).set_index('date')\n",
    "}\n",
    "actual = dataset.set_index('date')"
   ]
  },
  {
   "cell_type": "markdown",
   "metadata": {},
   "source": [
    "ARIMA plots"
   ]
  },
  {
   "cell_type": "code",
   "execution_count": 315,
   "metadata": {},
   "outputs": [
    {
     "name": "stdout",
     "output_type": "stream",
     "text": [
      "Not showing plot.\n",
      "Not storing plot.\n"
     ]
    }
   ],
   "source": [
    "MIN_VAL = 1 + 2980\n",
    "MAX_VAL = MIN_VAL + test.shape[0] - 450\n",
    "if show_plots:\n",
    "    # Plot actual test vs. forecasts:\n",
    "    fig, ax = plt.subplots()\n",
    "    ax.scatter(\n",
    "        dataset.date.values[MIN_VAL:MAX_VAL],\n",
    "        dataset.val.values[MIN_VAL:MAX_VAL],\n",
    "        marker = '.',\n",
    "        s = SCATTER,\n",
    "        alpha = 1,\n",
    "        color = 'black',\n",
    "        label = \"SP500\"\n",
    "        )\n",
    "    ax.plot(\n",
    "        predicted.iloc[MIN_VAL:MAX_VAL],\n",
    "        alpha = ALPHA,\n",
    "        linewidth = LINEWIDTH,\n",
    "        label = predicted.columns\n",
    "        )\n",
    "\n",
    "    ax.set_facecolor('whitesmoke')\n",
    "    ax.fmt_xdata = date_form\n",
    "    ax.yaxis.set_major_formatter(FormatStrFormatter('%.2f'))\n",
    "    fig.legend(loc=8, ncol=2, prop={'size':15})\n",
    "    # fig.autofmt_xdate()\n",
    "    fig.set_size_inches(18.5, 10.5)\n",
    "    plt.grid(visible=True, which='both', axis='both', color='white', alpha=1, linewidth=1.5)\n",
    "    plt.figure(num=1, figsize=(8,6))\n",
    "    plt.title('ARIMA(1,1,1) fitted: '+str(MKT), fontsize=20)\n",
    "\n",
    "    plt.show()\n",
    "else:\n",
    "    print(\"Not showing plot.\")\n",
    "\n",
    "if show_plots & save_figs:\n",
    "    fig.savefig((d_arima_plots+MKT+'_ARIMA'+str(ORDER)+'_full-fit_CLOSE_UP.png'), dpi=400, facecolor='white', edgecolor='white',bbox_inches = 'tight', pad_inches = 0.1)\n",
    "else:\n",
    "    print('Not storing plot.')"
   ]
  },
  {
   "cell_type": "code",
   "execution_count": 316,
   "metadata": {},
   "outputs": [
    {
     "name": "stdout",
     "output_type": "stream",
     "text": [
      "Not showing plot.\n",
      "Not storing plot.\n"
     ]
    }
   ],
   "source": [
    "MIN_VAL = 1 + 3000\n",
    "MAX_VAL = Y.shape[0] - 350\n",
    "if show_plots:\n",
    "    fig, ax = plt.subplots()\n",
    "    ax.scatter(\n",
    "        dataset.date.values[MIN_VAL:MAX_VAL],\n",
    "        dataset.val.values[MIN_VAL:MAX_VAL],\n",
    "        marker = '.',\n",
    "        s = SCATTER,\n",
    "        alpha = 1,\n",
    "        color = 'black',\n",
    "        label = \"SP500\"\n",
    "        )\n",
    "    ax.plot(\n",
    "        predicted.iloc[MIN_VAL:MAX_VAL],\n",
    "        alpha = ALPHA,\n",
    "        linewidth = LINEWIDTH,\n",
    "        label = predicted.columns\n",
    "        )\n",
    "\n",
    "    ax.set_facecolor('whitesmoke')\n",
    "    ax.xaxis.set_major_formatter(date_form)\n",
    "    ax.yaxis.set_major_formatter(FormatStrFormatter('%.2f'))\n",
    "    fig.legend(loc=8, ncol=2, prop={'size':15})\n",
    "    # fig.autofmt_xdate()\n",
    "    fig.set_size_inches(18.5, 10.5)\n",
    "    plt.figure(num=1, figsize=(8,6))\n",
    "    plt.grid(visible=True, which='both', axis='both', color='white', alpha=1, linewidth=1.5)\n",
    "    plt.title('ARIMA(1,1,1) in-sample-predictions: '+str(MKT), fontsize=20)\n",
    "    plt.show()\n",
    "else:\n",
    "    print(\"Not showing plot.\")\n",
    "    \n",
    "if show_plots & save_figs:\n",
    "    fig.savefig(d_arima_plots+'_ARIMA(1,1,1)_IN_SAMPLE_PRED_(close_up).png', dpi=400, facecolor='white', edgecolor='white',bbox_inches = 'tight', pad_inches = 0.1)\n",
    "else:\n",
    "    print('Not storing plot.')\n",
    "# "
   ]
  },
  {
   "cell_type": "code",
   "execution_count": 317,
   "metadata": {},
   "outputs": [
    {
     "name": "stdout",
     "output_type": "stream",
     "text": [
      "Not showing plot.\n",
      "Not storing plot.\n"
     ]
    }
   ],
   "source": [
    "MIN_VAL = 1 + 2980\n",
    "MAX_VAL = Y.shape[0] - 350\n",
    "if show_plots:\n",
    "    # Plot actual test vs. forecasts:\n",
    "    fig, ax = plt.subplots()\n",
    "    ax.scatter(\n",
    "        dataset.date.values[MIN_VAL:MAX_VAL],\n",
    "        dataset.val.values[MIN_VAL:MAX_VAL],\n",
    "        marker = '.',\n",
    "        s = SCATTER,\n",
    "        alpha = 1,\n",
    "        color = 'black',\n",
    "        label = \"SP500\"\n",
    "        )\n",
    "    ax.plot(\n",
    "        predicted.iloc[dtrain.shape[0]:MAX_VAL],\n",
    "        alpha = ALPHA,\n",
    "        linewidth = LINEWIDTH,\n",
    "        label = predicted.columns\n",
    "        )\n",
    "    ax.plot(\n",
    "        predicted.iloc[MIN_VAL:dtrain.shape[0]],\n",
    "        alpha = ALPHA,\n",
    "        linewidth = LINEWIDTH,\n",
    "        label = predicted.columns\n",
    "        )\n",
    "\n",
    "    ax.set_facecolor('whitesmoke')\n",
    "    ax.xaxis.set_major_formatter(date_form)\n",
    "    ax.yaxis.set_major_formatter(FormatStrFormatter('%.2f'))\n",
    "    fig.legend(loc=8, ncol=2, prop={'size':15})\n",
    "    fig.autofmt_xdate()\n",
    "    fig.set_size_inches(18.5, 10.5)\n",
    "    plt.grid(visible=True, which='both', axis='both', color='white', alpha=1, linewidth=1.5)\n",
    "    plt.figure(num=1, figsize=(8,6))\n",
    "    plt.title('ARIMA(1,1,1) fitted: '+str(MKT), fontsize=20)\n",
    "    plt.show()\n",
    "else:\n",
    "    print(\"Not showing plot.\")\n",
    "    \n",
    "if show_plots & save_figs:\n",
    "    fig.savefig(d_arima_plots+'_ARIMA(1,1,1)_full-fit_(close_up).png', dpi=400, facecolor='white', edgecolor='white',bbox_inches = 'tight', pad_inches = 0.1)\n",
    "else:\n",
    "    print('Not storing plot.')"
   ]
  },
  {
   "cell_type": "markdown",
   "metadata": {},
   "source": [
    "GARCH Modelling"
   ]
  },
  {
   "cell_type": "code",
   "execution_count": 319,
   "metadata": {},
   "outputs": [
    {
     "name": "stdout",
     "output_type": "stream",
     "text": [
      "Iteration:      1,   Func. Count:      6,   Neg. LLF: 1677582420.6263652\n",
      "Iteration:      2,   Func. Count:     14,   Neg. LLF: 4184.16828721853\n",
      "Iteration:      3,   Func. Count:     20,   Neg. LLF: 5432.669091828316\n",
      "Iteration:      4,   Func. Count:     27,   Neg. LLF: 3965.701360839627\n",
      "Iteration:      5,   Func. Count:     33,   Neg. LLF: 3950.996159779608\n",
      "Iteration:      6,   Func. Count:     38,   Neg. LLF: 3950.3340404611245\n",
      "Iteration:      7,   Func. Count:     44,   Neg. LLF: 3949.3412312681403\n",
      "Iteration:      8,   Func. Count:     50,   Neg. LLF: 3949.1240695788138\n",
      "Iteration:      9,   Func. Count:     55,   Neg. LLF: 3949.1163030498046\n",
      "Iteration:     10,   Func. Count:     60,   Neg. LLF: 3949.116293559593\n",
      "Iteration:     11,   Func. Count:     64,   Neg. LLF: 3949.116293559961\n",
      "Optimization terminated successfully    (Exit mode 0)\n",
      "            Current function value: 3949.116293559593\n",
      "            Iterations: 11\n",
      "            Function evaluations: 64\n",
      "            Gradient evaluations: 11\n",
      "Iteration:      1,   Func. Count:      6,   Neg. LLF: 1995813070.9587736\n",
      "Iteration:      2,   Func. Count:     14,   Neg. LLF: 5030.867355987097\n",
      "Iteration:      3,   Func. Count:     20,   Neg. LLF: 4834.756785971445\n",
      "Iteration:      4,   Func. Count:     27,   Neg. LLF: 4790.166569526991\n",
      "Iteration:      5,   Func. Count:     33,   Neg. LLF: 4777.165190960743\n",
      "Iteration:      6,   Func. Count:     39,   Neg. LLF: 4811.988993764306\n",
      "Iteration:      7,   Func. Count:     46,   Neg. LLF: 4776.780857310277\n",
      "Iteration:      8,   Func. Count:     51,   Neg. LLF: 4776.780851960755\n",
      "Iteration:      9,   Func. Count:     55,   Neg. LLF: 4776.780851960266\n",
      "Optimization terminated successfully    (Exit mode 0)\n",
      "            Current function value: 4776.780851960755\n",
      "            Iterations: 9\n",
      "            Function evaluations: 55\n",
      "            Gradient evaluations: 9\n"
     ]
    },
    {
     "name": "stderr",
     "output_type": "stream",
     "text": [
      "c:\\Users\\Keegan\\anaconda3\\envs\\ml\\lib\\site-packages\\arch\\__future__\\_utility.py:11: FutureWarning: \n",
      "The default for reindex is True. After September 2021 this will change to\n",
      "False. Set reindex to True or False to silence this message. Alternatively,\n",
      "you can use the import comment\n",
      "\n",
      "from arch.__future__ import reindexing\n",
      "\n",
      "to globally set reindex to True and silence this warning.\n",
      "\n",
      "  warnings.warn(\n"
     ]
    }
   ],
   "source": [
    "H = 10\n",
    "\n",
    "arima_resids = pd.DataFrame(\n",
    "    {'date':dataset.date.values[1:], 'arima_resids':fit.resid()[1:]*SCALE},\n",
    "    copy=True).set_index('date')\n",
    "# In-sample Model\n",
    "arch_s = ZeroMean(arima_resids)\n",
    "arch_s.volatility = GARCH(p=ORDER[0],o=1,q=ORDER[2])\n",
    "arch_s.distribution = Normal(seed=1)\n",
    "arch_s_fit = arch_s.fit(last_obs = E1)\n",
    "# Out-sample Analytic Forecasts\n",
    "f = arch_s_fit.forecast(horizon = H, start=E1)\n",
    "# Conditional Volatilities\n",
    "fvol = f.variance['h.01'].pow(0.5)          # 1-period forward forecast conditional volatility\n",
    "svol = arch_s_fit.conditional_volatility    # sample estimated conditional volatility\n",
    "\n",
    "# Full Sample Model\n",
    "garch = ZeroMean(arima_resids)\n",
    "garch.volatility = GARCH(p=ORDER[0],o=1,q=ORDER[2])\n",
    "garch.distribution = Normal(seed=1)\n",
    "garch_fit = arch_s.fit()"
   ]
  },
  {
   "cell_type": "code",
   "execution_count": 439,
   "metadata": {},
   "outputs": [
    {
     "data": {
      "image/png": "[encoded data removed]",
      "text/plain": [
       "<Figure size 1332x756 with 1 Axes>"
      ]
     },
     "metadata": {},
     "output_type": "display_data"
    },
    {
     "name": "stdout",
     "output_type": "stream",
     "text": [
      "Not storing plot.\n"
     ]
    }
   ],
   "source": [
    "if show_plots:\n",
    "    # Plot conditional volatilities\n",
    "    fig, ax = plt.subplots()\n",
    "    # ax.plot(garch_fit.conditional_volatility, color='black', label='Full-fit Conditional Volatility')\n",
    "    ax.plot(svol, label='Train Conditional Volatility')\n",
    "    ax.plot(fvol, label='Forecast Conditional Volatility')\n",
    "\n",
    "    ax.set_facecolor('whitesmoke')\n",
    "    ax.margins(x=0)\n",
    "    ax.xaxis.set_major_formatter(date_form)\n",
    "    ax.yaxis.set_major_formatter(FormatStrFormatter('%.2f'))\n",
    "    fig.legend(loc=8, ncol=2, prop={'size':15})\n",
    "    # fig.autofmt_xdate()\n",
    "    fig.set_size_inches(18.5, 10.5)\n",
    "    plt.grid(visible=True, which='both', axis='both', color='white', alpha=1, linewidth=1.5)\n",
    "    plt.figure(num=1, figsize=(8,6))\n",
    "    plt.title('GARCH(1,1,1) fitted: '+str(MKT), fontsize=20)\n",
    "    plt.show()\n",
    "else:\n",
    "    print(\"Not showing plot.\")\n",
    "    \n",
    "if show_plots & save_figs:\n",
    "    fig.savefig(d_garch_plots+'GRJ-GARCH(1,1,1)_in-sample_vs_out-sample.png', dpi=400, facecolor='white', edgecolor='white',bbox_inches = 'tight', pad_inches = 0.1)\n",
    "else:\n",
    "    print('Not storing plot.')"
   ]
  },
  {
   "cell_type": "code",
   "execution_count": 321,
   "metadata": {},
   "outputs": [],
   "source": [
    "quiet = svol[svol.index>'2012-01-01']\n",
    "gfc = svol[svol.index<'2012-01-01']\n",
    "covid = fvol"
   ]
  },
  {
   "cell_type": "code",
   "execution_count": 322,
   "metadata": {},
   "outputs": [
    {
     "name": "stdout",
     "output_type": "stream",
     "text": [
      "Not showing plot.\n",
      "Not storing plot.\n"
     ]
    }
   ],
   "source": [
    "if show_plots:\n",
    "    sns.distplot(arima_resids, color='orange')\n",
    "    sns.distplot(arch_s_fit.resid)\n",
    "    plt.title('Scaled Model Residuals')\n",
    "    plt.legend(labels=['ARIMA residuals','GJR-GARCH residuals'])\n",
    "else:\n",
    "    print(\"Not showing plot.\")\n",
    "    \n",
    "if show_plots & save_figs:\n",
    "    fig.savefig(d_model_results+'ARIMA(1,1,1)_vs_GRJ-GARCH(1,1,1)_residual distributions.png', dpi=400, facecolor='white', edgecolor='white',bbox_inches = 'tight', pad_inches = 0.1)\n",
    "else:\n",
    "    print('Not storing plot.')"
   ]
  },
  {
   "cell_type": "markdown",
   "metadata": {},
   "source": [
    "Wrangling and storing of results"
   ]
  },
  {
   "cell_type": "code",
   "execution_count": 323,
   "metadata": {},
   "outputs": [],
   "source": [
    "######################\n",
    "# RECORD GARCH RESULTS\n",
    "# Residuals\n",
    "if store_stats_results == True:\n",
    "    garch_fit.resid.to_csv(d_garch+MKT+'_GARCH'+str(ORDER)+'_residuals'+'.csv') \n",
    "else:\n",
    "    print('Not storing'+' GJR-GARCH'+str(ORDER)+' residuals.')\n",
    "\n",
    "# Extract and store garch model results\n",
    "# Model characteristics\n",
    "df_temp = pd.DataFrame(garch_fit.summary().tables[0])\n",
    "# slice pieces out\n",
    "tmp1 = df_temp.iloc[0:5,0:2]\n",
    "tmp2 = df_temp.iloc[0:5,2:4]\n",
    "tmp3 = df_temp.iloc[6:8,0:2]\n",
    "tmp4 = df_temp.iloc[5:8,2:4]\n",
    "# fix colnames\n",
    "tmp1.columns = ['Item','Value']\n",
    "tmp2.columns = ['Item','Value']\n",
    "tmp3.columns = ['Item','Value']\n",
    "tmp4.columns = ['Item','Value']\n",
    "# merge and store\n",
    "if store_stats_results == True:\n",
    "    pd.concat([tmp1,tmp2,tmp3,tmp4]).set_index('Item').to_csv(d_garch+MKT+' GJR-GARCH'+str(ORDER)+'_characteristics'+'.csv')\n",
    "    # cleanup\n",
    "    del df_temp, tmp1, tmp2, tmp3, tmp4\n",
    "else:\n",
    "    print('Not storing'+' GJR-GARCH'+str(ORDER)+' characteristics.')\n",
    "    # cleanup\n",
    "    del df_temp, tmp1, tmp2, tmp3, tmp4\n",
    "\n",
    "# Model parameters\n",
    "df_temp = pd.DataFrame(garch_fit.summary().tables[1])\n",
    "# restructure & store\n",
    "df_temp.columns = df_temp.iloc[0]\n",
    "tmp_cols = ['name']\n",
    "[tmp_cols.append(str(n)) for n in list(df_temp.columns)[1:]]\n",
    "df_temp.columns = tmp_cols\n",
    "if store_stats_results == True:\n",
    "    df_temp.drop(0).set_index('name').to_csv(d_garch+MKT+'_GJR-GARCH'+str(ORDER)+'_model_params'+'.csv')\n",
    "    # cleanup\n",
    "    del df_temp, tmp_cols\n",
    "else:\n",
    "    print('Not storing'+' GJR-GARCH'+str(ORDER)+' model params.')\n",
    "    # cleanup\n",
    "    del df_temp, tmp_cols\n",
    "\n",
    "######################\n",
    "# RECORD ARIMA RESULTS\n",
    "# Residuals\n",
    "if store_stats_results == True:\n",
    "    arima_resids.to_csv(d_arima+MKT+'_ARIMA'+str(ORDER)+'_residuals'+'.csv')\n",
    "else:\n",
    "    print('Not storing'+' ARIMA'+str(ORDER)+' residuals.')\n",
    "\n",
    "# Extract and store garch model results\n",
    "# Model characteristics\n",
    "df_temp = pd.DataFrame(fit.summary().tables[0])\n",
    "nobs = int(str(df_temp.iloc[5,1]).replace(\" \",\"\"))\n",
    "# slice unruly pieces out\n",
    "tmp1 = df_temp[[0,1]]\n",
    "tmp2 = df_temp[[2,3]].drop([5,6],axis=0).rename({2:0,3:1},axis=1)\n",
    "# wrangle\n",
    "df_temp = pd.concat([tmp1,tmp2])\n",
    "df_temp.index = range(len(df_temp))\n",
    "df_temp = df_temp.drop(5, axis=0)\n",
    "df_temp.index = range(len(df_temp))\n",
    "df_temp.iloc[4,1]=tuple([0, nobs])\n",
    "df_temp.iloc[0:1,1:2] = MKT\n",
    "df_temp = df_temp.rename({0:'Item',1:'Value'}, axis=1).set_index('Item')\n",
    "if store_stats_results == True:\n",
    "    df_temp.to_csv(d_arima+MKT+'_ARIMA'+str(ORDER)+'_characteristics'+'.csv')\n",
    "    # cleanup\n",
    "    del df_temp, tmp1, tmp2\n",
    "else:\n",
    "    print('Not storing'+' ARIMA'+str(ORDER)+' characteristics.')\n",
    "    # cleanup\n",
    "    del df_temp, tmp1, tmp2\n",
    "\n",
    "# ARIMA Model coefs & sigs\n",
    "df_temp = pd.DataFrame(fit.summary().tables[1])\n",
    "# restructure & store\n",
    "df_temp.columns = df_temp.iloc[0]\n",
    "tmp_cols = ['name']\n",
    "[tmp_cols.append(str(n)) for n in list(df_temp.columns)[1:]]\n",
    "df_temp.columns = tmp_cols\n",
    "if store_stats_results == True:\n",
    "    df_temp.drop(0).set_index('name').to_csv(d_arima+MKT+'_ARIMA'+str(ORDER)+'_model_params'+'.csv')\n",
    "    # cleanup\n",
    "    del df_temp, tmp_cols\n",
    "else:\n",
    "    print('Not storing'+' ARIMA'+str(ORDER)+' model params.')\n",
    "    # cleanup\n",
    "    del df_temp, tmp_cols\n",
    "\n",
    "# ARIMA statistics\n",
    "df_temp = pd.DataFrame(fit.summary().tables[2])\n",
    "tmp1 = df_temp[[0,1]]\n",
    "tmp2 = df_temp[[2,3]].rename({2:0,3:1},axis=1)\n",
    "if store_stats_results == True:\n",
    "    pd.concat([tmp1,tmp2]).rename({0:'Statistic',1:'Value'}, axis=1).set_index('Statistic').to_csv(d_arima+MKT+'_ARIMA'+str(ORDER)+'_statistics'+'.csv')\n",
    "    # cleanup\n",
    "    del df_temp, tmp1, tmp2\n",
    "else:\n",
    "    print('Not storing'+' ARIMA'+str(ORDER)+' statistics.')\n",
    "    # cleanup\n",
    "    del df_temp, tmp1, tmp2"
   ]
  },
  {
   "cell_type": "code",
   "execution_count": 464,
   "metadata": {},
   "outputs": [],
   "source": [
    "garch_resids = garch_fit.std_resid #garch_fit.resid\n",
    "\n",
    "normal_returns = prices.set_index('date').pct_change()*SCALE\n",
    "normal_returns = normal_returns.dropna()\n",
    "squared_returns = normal_returns**2\n",
    "squared_returns = squared_returns.rename({'date':'date','val':'squared_returns'}, axis=1)\n",
    "# log_returns = pd.DataFrame({'date':prices.date, 'log_returns':prices.val.divide(prices.val.shift(1)).subtract(1)}).set_index('date').dropna()\n",
    "volatility = pd.DataFrame({'date':svol.index,'volatility':pd.concat([svol.dropna(),fvol.dropna()])}).set_index('date')\n",
    "arimaXgarch = arima_resids.arima_resids*garch_resids\n",
    "arimaXgarch.columns = 'arimaXgarch'"
   ]
  },
  {
   "cell_type": "code",
   "execution_count": 415,
   "metadata": {},
   "outputs": [
    {
     "data": {
      "text/plain": [
       "[<matplotlib.lines.Line2D at 0x2710e698eb0>]"
      ]
     },
     "execution_count": 415,
     "metadata": {},
     "output_type": "execute_result"
    },
    {
     "data": {
      "image/png": "[encoded data removed]",
      "text/plain": [
       "<Figure size 576x396 with 1 Axes>"
      ]
     },
     "metadata": {},
     "output_type": "display_data"
    }
   ],
   "source": [
    "plt.plot(normal_returns)"
   ]
  },
  {
   "cell_type": "code",
   "execution_count": 421,
   "metadata": {},
   "outputs": [
    {
     "name": "stderr",
     "output_type": "stream",
     "text": [
      "c:\\Users\\Keegan\\anaconda3\\envs\\ml\\lib\\site-packages\\seaborn\\distributions.py:2619: FutureWarning: `distplot` is a deprecated function and will be removed in a future version. Please adapt your code to use either `displot` (a figure-level function with similar flexibility) or `histplot` (an axes-level function for histograms).\n",
      "  warnings.warn(msg, FutureWarning)\n"
     ]
    },
    {
     "data": {
      "text/plain": [
       "<AxesSubplot:ylabel='Density'>"
      ]
     },
     "execution_count": 421,
     "metadata": {},
     "output_type": "execute_result"
    },
    {
     "data": {
      "image/png": "[encoded data removed]",
      "text/plain": [
       "<Figure size 576x396 with 1 Axes>"
      ]
     },
     "metadata": {},
     "output_type": "display_data"
    }
   ],
   "source": [
    "sns.distplot(normal_returns**2/SCALE*SCALE)\n",
    "# sns.distplot(normal_returns)"
   ]
  },
  {
   "cell_type": "code",
   "execution_count": 466,
   "metadata": {},
   "outputs": [
    {
     "data": {
      "text/html": [
       "<div>\n",
       "<style scoped>\n",
       "    .dataframe tbody tr th:only-of-type {\n",
       "        vertical-align: middle;\n",
       "    }\n",
       "\n",
       "    .dataframe tbody tr th {\n",
       "        vertical-align: top;\n",
       "    }\n",
       "\n",
       "    .dataframe thead th {\n",
       "        text-align: right;\n",
       "    }\n",
       "</style>\n",
       "<table border=\"1\" class=\"dataframe\">\n",
       "  <thead>\n",
       "    <tr style=\"text-align: right;\">\n",
       "      <th></th>\n",
       "      <th>normal_returns</th>\n",
       "      <th>squared_returns</th>\n",
       "      <th>arima_resids</th>\n",
       "      <th>garch_resids</th>\n",
       "      <th>volatility</th>\n",
       "      <th>arimaXgarch</th>\n",
       "    </tr>\n",
       "    <tr>\n",
       "      <th>date</th>\n",
       "      <th></th>\n",
       "      <th></th>\n",
       "      <th></th>\n",
       "      <th></th>\n",
       "      <th></th>\n",
       "      <th></th>\n",
       "    </tr>\n",
       "  </thead>\n",
       "  <tbody>\n",
       "    <tr>\n",
       "      <th>2022-02-14</th>\n",
       "      <td>-0.384055</td>\n",
       "      <td>0.147498</td>\n",
       "      <td>-0.707974</td>\n",
       "      <td>-0.425611</td>\n",
       "      <td>1.575086</td>\n",
       "      <td>0.301322</td>\n",
       "    </tr>\n",
       "    <tr>\n",
       "      <th>2022-02-15</th>\n",
       "      <td>1.576674</td>\n",
       "      <td>2.485902</td>\n",
       "      <td>1.455613</td>\n",
       "      <td>0.926612</td>\n",
       "      <td>1.468099</td>\n",
       "      <td>1.348789</td>\n",
       "    </tr>\n",
       "    <tr>\n",
       "      <th>2022-02-16</th>\n",
       "      <td>0.088122</td>\n",
       "      <td>0.007766</td>\n",
       "      <td>0.269127</td>\n",
       "      <td>0.182324</td>\n",
       "      <td>1.369616</td>\n",
       "      <td>0.049068</td>\n",
       "    </tr>\n",
       "    <tr>\n",
       "      <th>2022-02-17</th>\n",
       "      <td>-2.117314</td>\n",
       "      <td>4.483017</td>\n",
       "      <td>-2.150167</td>\n",
       "      <td>-1.577460</td>\n",
       "      <td>1.646483</td>\n",
       "      <td>3.391802</td>\n",
       "    </tr>\n",
       "    <tr>\n",
       "      <th>2022-02-18</th>\n",
       "      <td>-0.716624</td>\n",
       "      <td>0.513550</td>\n",
       "      <td>-1.057221</td>\n",
       "      <td>-0.644283</td>\n",
       "      <td>1.616362</td>\n",
       "      <td>0.681150</td>\n",
       "    </tr>\n",
       "  </tbody>\n",
       "</table>\n",
       "</div>"
      ],
      "text/plain": [
       "            normal_returns  squared_returns  arima_resids  garch_resids  \\\n",
       "date                                                                      \n",
       "2022-02-14       -0.384055         0.147498     -0.707974     -0.425611   \n",
       "2022-02-15        1.576674         2.485902      1.455613      0.926612   \n",
       "2022-02-16        0.088122         0.007766      0.269127      0.182324   \n",
       "2022-02-17       -2.117314         4.483017     -2.150167     -1.577460   \n",
       "2022-02-18       -0.716624         0.513550     -1.057221     -0.644283   \n",
       "\n",
       "            volatility  arimaXgarch  \n",
       "date                                 \n",
       "2022-02-14    1.575086     0.301322  \n",
       "2022-02-15    1.468099     1.348789  \n",
       "2022-02-16    1.369616     0.049068  \n",
       "2022-02-17    1.646483     3.391802  \n",
       "2022-02-18    1.616362     0.681150  "
      ]
     },
     "execution_count": 466,
     "metadata": {},
     "output_type": "execute_result"
    }
   ],
   "source": [
    "features = pd.concat([\n",
    "    normal_returns,\n",
    "    squared_returns,\n",
    "    arima_resids.copy(deep=True),\n",
    "    garch_resids,\n",
    "    volatility,\n",
    "    arimaXgarch],axis=1).rename(\n",
    "        {'val':'normal_returns',\n",
    "        'squared_returns':'squared_returns',\n",
    "        'arima_resids':'arima_resids',\n",
    "        # 'resid':'garch_resids',\n",
    "        'std_resid':'garch_resids',\n",
    "        'volatility':'volatility',\n",
    "        0:'arimaXgarch'\n",
    "        }, axis=1)\n",
    "features.tail()"
   ]
  },
  {
   "cell_type": "code",
   "execution_count": 432,
   "metadata": {},
   "outputs": [
    {
     "data": {
      "text/plain": [
       "True"
      ]
     },
     "execution_count": 432,
     "metadata": {},
     "output_type": "execute_result"
    }
   ],
   "source": [
    "all(garch_fit.resid.values == arima_resids.arima_resids.values)"
   ]
  },
  {
   "cell_type": "code",
   "execution_count": 458,
   "metadata": {},
   "outputs": [
    {
     "data": {
      "text/plain": [
       "date\n",
       "2008-01-07    0.198584\n",
       "2008-01-08   -1.364619\n",
       "2008-01-09    0.686663\n",
       "2008-01-10    0.648877\n",
       "2008-01-11   -0.958618\n",
       "                ...   \n",
       "2022-02-14   -0.425611\n",
       "2022-02-15    0.926612\n",
       "2022-02-16    0.182324\n",
       "2022-02-17   -1.577460\n",
       "2022-02-18   -0.644283\n",
       "Name: std_resid, Length: 3557, dtype: float64"
      ]
     },
     "execution_count": 458,
     "metadata": {},
     "output_type": "execute_result"
    }
   ],
   "source": [
    "garch_fit.std_resid"
   ]
  },
  {
   "cell_type": "code",
   "execution_count": 295,
   "metadata": {},
   "outputs": [
    {
     "data": {
      "text/plain": [
       "array([-11.63368102,  -1.26909185,  -0.6237493 ,  -0.30439171,\n",
       "        -0.09886608,   0.06205513,   0.22361386,   0.44158138,\n",
       "         0.71227478,   1.18857612,  10.68201493])"
      ]
     },
     "execution_count": 295,
     "metadata": {},
     "output_type": "execute_result"
    }
   ],
   "source": [
    "pd.qcut(arima_resids.arima_resids, q=10, retbins=True)[1]"
   ]
  }
 ],
 "metadata": {
  "kernelspec": {
   "display_name": "Python 3.9.12 ('ml')",
   "language": "python",
   "name": "python3"
  },
  "language_info": {
   "codemirror_mode": {
    "name": "ipython",
    "version": 3
   },
   "file_extension": ".py",
   "mimetype": "text/x-python",
   "name": "python",
   "nbconvert_exporter": "python",
   "pygments_lexer": "ipython3",
   "version": "3.9.12"
  },
  "orig_nbformat": 4,
  "vscode": {
   "interpreter": {
    "hash": "702c8f25f243a5b6217c739e636a483cc6c8ab61b8f4035d125c56c1ea95091f"
   }
  }
 },
 "nbformat": 4,
 "nbformat_minor": 2
}
